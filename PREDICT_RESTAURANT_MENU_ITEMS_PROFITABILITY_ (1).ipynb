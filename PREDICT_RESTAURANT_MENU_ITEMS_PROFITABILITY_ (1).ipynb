{
  "nbformat": 4,
  "nbformat_minor": 0,
  "metadata": {
    "colab": {
      "provenance": []
    },
    "kernelspec": {
      "name": "python3",
      "display_name": "Python 3"
    },
    "language_info": {
      "name": "python"
    }
  },
  "cells": [
    {
      "cell_type": "markdown",
      "source": [
        "This project aims to analyze and predict the profitability of restaurant menu items using data-driven techniques and machine learning models. The primary goal is to identify key factors that influence the profitability of menu items and develop a neural network model to classify menu items into different profitability categories (High, Medium, Low).\n",
        "\n",
        "The dataset includes information on various menu items, their categories, ingredients, and prices. The analysis involves data preprocessing, feature engineering, exploratory data analysis (EDA), model training, and evaluation. Key metrics such as accuracy, precision, recall, and F1 score are used to assess the performance of the model.\n",
        "\n",
        "Through this project, we aim to provide valuable insights that can help restaurant owners and managers optimize their menu for better profitability."
      ],
      "metadata": {
        "id": "G8yiGtyJJmAQ"
      }
    },
    {
      "cell_type": "code",
      "execution_count": 1,
      "metadata": {
        "id": "LqBGbTg0DSML"
      },
      "outputs": [],
      "source": [
        "import pandas as pd\n",
        "from sklearn.model_selection import train_test_split\n",
        "from sklearn.preprocessing import OneHotEncoder, LabelEncoder\n",
        "from sklearn.ensemble import RandomForestClassifier\n",
        "from sklearn.metrics import classification_report, confusion_matrix\n",
        "import matplotlib.pyplot as plt\n",
        "import seaborn as sns\n",
  "from sklearn.preprocessing import LabelEncoder\n",
        "from sklearn.model_selection import train_test_split\n",
        "from tensorflow.keras.utils import to_categorical\n",
        "import numpy as np\n",
        "from tensorflow.keras.models import Sequential\n",
        "from tensorflow.keras.layers import Dense, Dropout\n",
        "import matplotlib.pyplot as plt\n",
"import tensorflow as tf\n",

        "from kerastuner.tuners import RandomSearch\n",
        "import seaborn as sns\n"
      ]
    },
    {
      "cell_type": "code",
      "source": [
        "#Importing data\n",
        "\n",
        "!pip install pandas\n",
        "from google.colab import files\n",
        "\n",
        "uploaded = files.upload()\n"
      ],
      "metadata": {
        "colab": {
          "base_uri": "https://localhost:8080/",
          "height": 197
        },
        "id": "7x_pO7qCHqEK",
        "outputId": "6d5daea9-f255-4f04-feb8-7ca12c8ec094"
      },
      "execution_count": 2,
      "outputs": [
        {
          "output_type": "stream",
          "name": "stdout",
          "text": [
            "Requirement already satisfied: pandas in /usr/local/lib/python3.10/dist-packages (2.1.4)\n",
            "Requirement already satisfied: numpy<2,>=1.22.4 in /usr/local/lib/python3.10/dist-packages (from pandas) (1.26.4)\n",
            "Requirement already satisfied: python-dateutil>=2.8.2 in /usr/local/lib/python3.10/dist-packages (from pandas) (2.8.2)\n",
            "Requirement already satisfied: pytz>=2020.1 in /usr/local/lib/python3.10/dist-packages (from pandas) (2024.1)\n",
            "Requirement already satisfied: tzdata>=2022.1 in /usr/local/lib/python3.10/dist-packages (from pandas) (2024.1)\n",
            "Requirement already satisfied: six>=1.5 in /usr/local/lib/python3.10/dist-packages (from python-dateutil>=2.8.2->pandas) (1.16.0)\n"
          ]
        },
        {
          "output_type": "display_data",
          "data": {
            "text/plain": [
              "<IPython.core.display.HTML object>"
            ],
            "text/html": [
              "\n",
              "     <input type=\"file\" id=\"files-5f1c7072-8df3-430d-adcf-25ac05ebe5e3\" name=\"files[]\" multiple disabled\n",
              "        style=\"border:none\" />\n",
              "     <output id=\"result-5f1c7072-8df3-430d-adcf-25ac05ebe5e3\">\n",
              "      Upload widget is only available when the cell has been executed in the\n",
              "      current browser session. Please rerun this cell to enable.\n",
              "      </output>\n",
              "      <script>// Copyright 2017 Google LLC\n",
              "//\n",
              "// Licensed under the Apache License, Version 2.0 (the \"License\");\n",
              "// you may not use this file except in compliance with the License.\n",
              "// You may obtain a copy of the License at\n",
              "//\n",
              "//      http://www.apache.org/licenses/LICENSE-2.0\n",
              "//\n",
              "// Unless required by applicable law or agreed to in writing, software\n",
              "// distributed under the License is distributed on an \"AS IS\" BASIS,\n",
              "// WITHOUT WARRANTIES OR CONDITIONS OF ANY KIND, either express or implied.\n",
              "// See the License for the specific language governing permissions and\n",
              "// limitations under the License.\n",
              "\n",
              "/**\n",
              " * @fileoverview Helpers for google.colab Python module.\n",
              " */\n",
              "(function(scope) {\n",
              "function span(text, styleAttributes = {}) {\n",
              "  const element = document.createElement('span');\n",
              "  element.textContent = text;\n",
              "  for (const key of Object.keys(styleAttributes)) {\n",
              "    element.style[key] = styleAttributes[key];\n",
              "  }\n",
              "  return element;\n",
              "}\n",
              "\n",
              "// Max number of bytes which will be uploaded at a time.\n",
              "const MAX_PAYLOAD_SIZE = 100 * 1024;\n",
              "\n",
              "function _uploadFiles(inputId, outputId) {\n",
              "  const steps = uploadFilesStep(inputId, outputId);\n",
              "  const outputElement = document.getElementById(outputId);\n",
              "  // Cache steps on the outputElement to make it available for the next call\n",
              "  // to uploadFilesContinue from Python.\n",
              "  outputElement.steps = steps;\n",
              "\n",
              "  return _uploadFilesContinue(outputId);\n",
              "}\n",
              "\n",
              "// This is roughly an async generator (not supported in the browser yet),\n",
              "// where there are multiple asynchronous steps and the Python side is going\n",
              "// to poll for completion of each step.\n",
              "// This uses a Promise to block the python side on completion of each step,\n",
              "// then passes the result of the previous step as the input to the next step.\n",
              "function _uploadFilesContinue(outputId) {\n",
              "  const outputElement = document.getElementById(outputId);\n",
              "  const steps = outputElement.steps;\n",
              "\n",
              "  const next = steps.next(outputElement.lastPromiseValue);\n",
              "  return Promise.resolve(next.value.promise).then((value) => {\n",
              "    // Cache the last promise value to make it available to the next\n",
              "    // step of the generator.\n",
              "    outputElement.lastPromiseValue = value;\n",
              "    return next.value.response;\n",
              "  });\n",
              "}\n",
              "\n",
              "/**\n",
              " * Generator function which is called between each async step of the upload\n",
              " * process.\n",
              " * @param {string} inputId Element ID of the input file picker element.\n",
              " * @param {string} outputId Element ID of the output display.\n",
              " * @return {!Iterable<!Object>} Iterable of next steps.\n",
              " */\n",
              "function* uploadFilesStep(inputId, outputId) {\n",
              "  const inputElement = document.getElementById(inputId);\n",
              "  inputElement.disabled = false;\n",
              "\n",
              "  const outputElement = document.getElementById(outputId);\n",
              "  outputElement.innerHTML = '';\n",
              "\n",
              "  const pickedPromise = new Promise((resolve) => {\n",
              "    inputElement.addEventListener('change', (e) => {\n",
              "      resolve(e.target.files);\n",
              "    });\n",
              "  });\n",
              "\n",
              "  const cancel = document.createElement('button');\n",
              "  inputElement.parentElement.appendChild(cancel);\n",
              "  cancel.textContent = 'Cancel upload';\n",
              "  const cancelPromise = new Promise((resolve) => {\n",
              "    cancel.onclick = () => {\n",
              "      resolve(null);\n",
              "    };\n",
              "  });\n",
              "\n",
              "  // Wait for the user to pick the files.\n",
              "  const files = yield {\n",
              "    promise: Promise.race([pickedPromise, cancelPromise]),\n",
              "    response: {\n",
              "      action: 'starting',\n",
              "    }\n",
              "  };\n",
              "\n",
              "  cancel.remove();\n",
              "\n",
              "  // Disable the input element since further picks are not allowed.\n",
              "  inputElement.disabled = true;\n",
              "\n",
              "  if (!files) {\n",
              "    return {\n",
              "      response: {\n",
              "        action: 'complete',\n",
              "      }\n",
              "    };\n",
              "  }\n",
              "\n",
              "  for (const file of files) {\n",
              "    const li = document.createElement('li');\n",
              "    li.append(span(file.name, {fontWeight: 'bold'}));\n",
              "    li.append(span(\n",
              "        `(${file.type || 'n/a'}) - ${file.size} bytes, ` +\n",
              "        `last modified: ${\n",
              "            file.lastModifiedDate ? file.lastModifiedDate.toLocaleDateString() :\n",
              "                                    'n/a'} - `));\n",
              "    const percent = span('0% done');\n",
              "    li.appendChild(percent);\n",
              "\n",
              "    outputElement.appendChild(li);\n",
              "\n",
              "    const fileDataPromise = new Promise((resolve) => {\n",
              "      const reader = new FileReader();\n",
              "      reader.onload = (e) => {\n",
              "        resolve(e.target.result);\n",
              "      };\n",
              "      reader.readAsArrayBuffer(file);\n",
              "    });\n",
              "    // Wait for the data to be ready.\n",
              "    let fileData = yield {\n",
              "      promise: fileDataPromise,\n",
              "      response: {\n",
              "        action: 'continue',\n",
              "      }\n",
              "    };\n",
              "\n",
              "    // Use a chunked sending to avoid message size limits. See b/62115660.\n",
              "    let position = 0;\n",
              "    do {\n",
              "      const length = Math.min(fileData.byteLength - position, MAX_PAYLOAD_SIZE);\n",
              "      const chunk = new Uint8Array(fileData, position, length);\n",
              "      position += length;\n",
              "\n",
              "      const base64 = btoa(String.fromCharCode.apply(null, chunk));\n",
              "      yield {\n",
              "        response: {\n",
              "          action: 'append',\n",
              "          file: file.name,\n",
              "          data: base64,\n",
              "        },\n",
              "      };\n",
              "\n",
              "      let percentDone = fileData.byteLength === 0 ?\n",
              "          100 :\n",
              "          Math.round((position / fileData.byteLength) * 100);\n",
              "      percent.textContent = `${percentDone}% done`;\n",
              "\n",
              "    } while (position < fileData.byteLength);\n",
              "  }\n",
              "\n",
              "  // All done.\n",
              "  yield {\n",
              "    response: {\n",
              "      action: 'complete',\n",
              "    }\n",
              "  };\n",
              "}\n",
              "\n",
              "scope.google = scope.google || {};\n",
              "scope.google.colab = scope.google.colab || {};\n",
              "scope.google.colab._files = {\n",
              "  _uploadFiles,\n",
              "  _uploadFilesContinue,\n",
              "};\n",
              "})(self);\n",
              "</script> "
            ]
          },
          "metadata": {}
        },
        {
          "output_type": "stream",
          "name": "stdout",
          "text": [
            "Saving restaurant_menu_optimization_data.csv to restaurant_menu_optimization_data.csv\n"
          ]
        }
      ]
    },
    {
      "cell_type": "code",
      "source": [
     "\n",
        "# Reading the CSV file and assigning it to the variable 'data'\n",
        "data = pd.read_csv('restaurant_menu_optimization_data.csv')\n",
        "\n",
        "# Display the first few rows of the dataframe\n",
        "print(data.head())\n"
      ],
      "metadata": {
        "colab": {
          "base_uri": "https://localhost:8080/"
        },
        "id": "iDXTGrB7JHdN",
        "outputId": "4c58a563-1b6e-4a2e-d981-a6672725bb7e"
      },
      "execution_count": 3,
      "outputs": [
        {
          "output_type": "stream",
          "name": "stdout",
          "text": [
            "  RestaurantID MenuCategory               MenuItem  \\\n",
            "0         R003    Beverages                   Soda   \n",
            "1         R001   Appetizers  Spinach Artichoke Dip   \n",
            "2         R003     Desserts    New York Cheesecake   \n",
            "3         R003  Main Course        Chicken Alfredo   \n",
            "4         R002  Main Course          Grilled Steak   \n",
            "\n",
            "                                         Ingredients  Price Profitability  \n",
            "0                                   ['confidential']   2.55           Low  \n",
            "1       ['Tomatoes', 'Basil', 'Garlic', 'Olive Oil']  11.12        Medium  \n",
            "2           ['Chocolate', 'Butter', 'Sugar', 'Eggs']  18.66          High  \n",
            "3  ['Chicken', 'Fettuccine', 'Alfredo Sauce', 'Pa...  29.55          High  \n",
            "4  ['Chicken', 'Fettuccine', 'Alfredo Sauce', 'Pa...  17.73        Medium  \n"
          ]
        }
      ]
    },
    {
      "cell_type": "code",
      "source": [
        "# Check for missing values in each column\n",
        "missing_values = data.isnull().sum()\n",
        "print(\"Missing values in each column:\")\n",
        "print(missing_values)\n",
        "\n",
        "# Check for any rows with missing values\n",
        "rows_with_missing_values = data[data.isnull().any(axis=1)]\n",
        "print(\"\\nRows with missing values:\")\n",
        "print(rows_with_missing_values)\n"
      ],
      "metadata": {
        "colab": {
          "base_uri": "https://localhost:8080/"
        },
        "id": "wPYAkidGJABY",
        "outputId": "cb992933-a665-4d1b-adf9-ad8aed76b0af"
      },
      "execution_count": 4,
      "outputs": [
        {
          "output_type": "stream",
          "name": "stdout",
          "text": [
            "Missing values in each column:\n",
            "RestaurantID     0\n",
            "MenuCategory     0\n",
            "MenuItem         0\n",
            "Ingredients      0\n",
            "Price            0\n",
            "Profitability    0\n",
            "dtype: int64\n",
            "\n",
            "Rows with missing values:\n",
            "Empty DataFrame\n",
            "Columns: [RestaurantID, MenuCategory, MenuItem, Ingredients, Price, Profitability]\n",
            "Index: []\n"
          ]
        }
      ]
    },
    {
      "cell_type": "code",
      "source": [
        "# Check data types of each column\n",
        "data_types = data.dtypes\n",
        "print(\"\\nData types of each column:\")\n",
        "print(data_types)\n"
      ],
      "metadata": {
        "colab": {
          "base_uri": "https://localhost:8080/"
        },
        "id": "k6kfCMN1JAU5",
        "outputId": "09769a2f-d33b-4d80-aac9-36d8ceb3ee1d"
      },
      "execution_count": 5,
      "outputs": [
        {
          "output_type": "stream",
          "name": "stdout",
          "text": [
            "\n",
            "Data types of each column:\n",
            "RestaurantID      object\n",
            "MenuCategory      object\n",
            "MenuItem          object\n",
            "Ingredients       object\n",
            "Price            float64\n",
            "Profitability     object\n",
            "dtype: object\n"
          ]
        }
      ]
    },
    {
      "cell_type": "code",
      "source": [
       
        "\n",
        "# Replace 'confidential' with NaN in the 'Ingredients' column\n",
        "data['Ingredients'] = data['Ingredients'].replace('confidential', np.nan)\n",
        "\n",
        "# Create a new feature 'IngredientsCount'\n",
        "data['IngredientsCount'] = data['Ingredients'].apply(lambda x: len(x.split(',')) if pd.notnull(x) else np.nan)\n",
        "\n",
        "# Impute missing values in 'IngredientsCount' with the mean count of non-confidential items\n",
        "mean_ingredients_count = data['IngredientsCount'].mean()\n",
        "data['IngredientsCount'].fillna(mean_ingredients_count, inplace=True)\n",
        "\n",
        "# Display the first few rows to verify the imputation\n",
        "print(data.head())\n"
      ],
      "metadata": {
        "colab": {
          "base_uri": "https://localhost:8080/"
        },
        "id": "0pOmSJqlS8nj",
        "outputId": "e26827fc-e3f2-4042-8a81-a889083e7712"
      },
      "execution_count": 6,
      "outputs": [
        {
          "output_type": "stream",
          "name": "stdout",
          "text": [
            "  RestaurantID MenuCategory               MenuItem  \\\n",
            "0         R003    Beverages                   Soda   \n",
            "1         R001   Appetizers  Spinach Artichoke Dip   \n",
            "2         R003     Desserts    New York Cheesecake   \n",
            "3         R003  Main Course        Chicken Alfredo   \n",
            "4         R002  Main Course          Grilled Steak   \n",
            "\n",
            "                                         Ingredients  Price Profitability  \\\n",
            "0                                   ['confidential']   2.55           Low   \n",
            "1       ['Tomatoes', 'Basil', 'Garlic', 'Olive Oil']  11.12        Medium   \n",
            "2           ['Chocolate', 'Butter', 'Sugar', 'Eggs']  18.66          High   \n",
            "3  ['Chicken', 'Fettuccine', 'Alfredo Sauce', 'Pa...  29.55          High   \n",
            "4  ['Chicken', 'Fettuccine', 'Alfredo Sauce', 'Pa...  17.73        Medium   \n",
            "\n",
            "   IngredientsCount  \n",
            "0                 1  \n",
            "1                 4  \n",
            "2                 4  \n",
            "3                 4  \n",
            "4                 4  \n"
          ]
        }
      ]
    },
    {
      "cell_type": "code",
      "source": [
        
        "\n",
        "# Create a new feature 'PriceCategory' based on the 'Price' column\n",
        "\n",
        "# Define the bins for the price ranges\n",
        "bins = [2.00, 10.00, 20.00, 29.80]\n",
        "labels = ['Low', 'Medium', 'High']\n",
        "\n",
        "# Create a new column 'PriceCategory' using pd.cut\n",
        "data['PriceCategory'] = pd.cut(data['Price'], bins=bins, labels=labels, right=False)\n",
        "\n",
        "# Display the first few rows to verify the new column\n",
        "print(data.head())\n",
        "\n",
        "# Summary statistics for 'Price' and 'IngredientsCount'\n",
        "summary_stats = data[['Price', 'IngredientsCount']].describe()\n",
        "print(\"\\nSummary Statistics for Price and Ingredients Count:\")\n",
        "print(summary_stats)\n",
        "\n"
      ],
      "metadata": {
        "colab": {
          "base_uri": "https://localhost:8080/"
        },
        "id": "SIkL0KQgTe5i",
        "outputId": "d6e7993d-4341-470b-939e-02bfb01a1e38"
      },
      "execution_count": 7,
      "outputs": [
        {
          "output_type": "stream",
          "name": "stdout",
          "text": [
            "  RestaurantID MenuCategory               MenuItem  \\\n",
            "0         R003    Beverages                   Soda   \n",
            "1         R001   Appetizers  Spinach Artichoke Dip   \n",
            "2         R003     Desserts    New York Cheesecake   \n",
            "3         R003  Main Course        Chicken Alfredo   \n",
            "4         R002  Main Course          Grilled Steak   \n",
            "\n",
            "                                         Ingredients  Price Profitability  \\\n",
            "0                                   ['confidential']   2.55           Low   \n",
            "1       ['Tomatoes', 'Basil', 'Garlic', 'Olive Oil']  11.12        Medium   \n",
            "2           ['Chocolate', 'Butter', 'Sugar', 'Eggs']  18.66          High   \n",
            "3  ['Chicken', 'Fettuccine', 'Alfredo Sauce', 'Pa...  29.55          High   \n",
            "4  ['Chicken', 'Fettuccine', 'Alfredo Sauce', 'Pa...  17.73        Medium   \n",
            "\n",
            "   IngredientsCount PriceCategory  \n",
            "0                 1           Low  \n",
            "1                 4        Medium  \n",
            "2                 4        Medium  \n",
            "3                 4          High  \n",
            "4                 4        Medium  \n",
            "\n",
            "Summary Statistics for Price and Ingredients Count:\n",
            "            Price  IngredientsCount\n",
            "count  1000.00000        1000.00000\n",
            "mean     12.81801           3.20800\n",
            "std       7.41713           1.32306\n",
            "min       2.01000           1.00000\n",
            "25%       4.86750           1.00000\n",
            "50%      12.53500           4.00000\n",
            "75%      17.69000           4.00000\n",
            "max      29.84000           4.00000\n"
          ]
        }
      ]
    },
    {
      "cell_type": "code",
      "source": [
        "# Label encoding for 'MenuCategory'\n",
        "label_encoder_menu = LabelEncoder()\n",
        "data['MenuCategoryEncoded'] = label_encoder_menu.fit_transform(data['MenuCategory'])\n",
        "\n",
     
        "\n",
        "# Target encoding for 'Profitability'\n",
        "profitability_mapping = {'Low': 1, 'Medium': 2, 'High': 3}\n",
        "data['Profitability_encoded'] = data['Profitability'].map(profitability_mapping)\n",
        "\n",
        "# Define a mapping\n",
        "ordinal_encoding = {'Low': 0, 'Medium': 1, 'High': 2}\n",
        "\n",
        "# Map the categories to integers\n",
        "data['PriceCategory_Encoded'] = data['PriceCategory'].map(ordinal_encoding)\n",
        "\n",
        "print(data.head())"
      ],
      "metadata": {
        "colab": {
          "base_uri": "https://localhost:8080/"
        },
        "id": "E25w-oCmvpPb",
        "outputId": "78f13f0a-1068-43f4-ffed-6444627b25f5"
      },
      "execution_count": 8,
      "outputs": [
        {
          "output_type": "stream",
          "name": "stdout",
          "text": [
            "  RestaurantID MenuCategory               MenuItem  \\\n",
            "0         R003    Beverages                   Soda   \n",
            "1         R001   Appetizers  Spinach Artichoke Dip   \n",
            "2         R003     Desserts    New York Cheesecake   \n",
            "3         R003  Main Course        Chicken Alfredo   \n",
            "4         R002  Main Course          Grilled Steak   \n",
            "\n",
            "                                         Ingredients  Price Profitability  \\\n",
            "0                                   ['confidential']   2.55           Low   \n",
            "1       ['Tomatoes', 'Basil', 'Garlic', 'Olive Oil']  11.12        Medium   \n",
            "2           ['Chocolate', 'Butter', 'Sugar', 'Eggs']  18.66          High   \n",
            "3  ['Chicken', 'Fettuccine', 'Alfredo Sauce', 'Pa...  29.55          High   \n",
            "4  ['Chicken', 'Fettuccine', 'Alfredo Sauce', 'Pa...  17.73        Medium   \n",
            "\n",
            "   IngredientsCount PriceCategory  MenuCategoryEncoded  Profitability_encoded  \\\n",
            "0                 1           Low                    1                      1   \n",
            "1                 4        Medium                    0                      2   \n",
            "2                 4        Medium                    2                      3   \n",
            "3                 4          High                    3                      3   \n",
            "4                 4        Medium                    3                      2   \n",
            "\n",
            "  PriceCategory_Encoded  \n",
            "0                     0  \n",
            "1                     1  \n",
            "2                     1  \n",
            "3                     2  \n",
            "4                     1  \n"
          ]
        }
      ]
    },
    {
      "cell_type": "code",
      "source": [
        "# Check data types of each column\n",
        "data_types = data.dtypes\n",
        "print(\"\\nData types of each column:\")\n",
        "print(data_types)"
      ],
      "metadata": {
        "colab": {
          "base_uri": "https://localhost:8080/"
        },
        "id": "oVyDBpj-trPZ",
        "outputId": "711173fb-0909-4d07-e9c7-7c19f6affd28"
      },
      "execution_count": 9,
      "outputs": [
        {
          "output_type": "stream",
          "name": "stdout",
          "text": [
            "\n",
            "Data types of each column:\n",
            "RestaurantID               object\n",
            "MenuCategory               object\n",
            "MenuItem                   object\n",
            "Ingredients                object\n",
            "Price                     float64\n",
            "Profitability              object\n",
            "IngredientsCount            int64\n",
            "PriceCategory            category\n",
            "MenuCategoryEncoded         int64\n",
            "Profitability_encoded       int64\n",
            "PriceCategory_Encoded    category\n",
            "dtype: object\n"
          ]
        }
      ]
    },
    {
      "cell_type": "code",
      "source": [
        "# Check data types of each column\n",
        "data_types = data.dtypes\n",
        "print(\"\\nData types of each column:\")\n",
        "print(data_types)"
      ],
      "metadata": {
        "colab": {
          "base_uri": "https://localhost:8080/"
        },
        "id": "Lk6OHOfr4f99",
        "outputId": "0194827a-3e2f-41ae-fd8d-9023ba269dc9"
      },
      "execution_count": 10,
      "outputs": [
        {
          "output_type": "stream",
          "name": "stdout",
          "text": [
            "\n",
            "Data types of each column:\n",
            "RestaurantID               object\n",
            "MenuCategory               object\n",
            "MenuItem                   object\n",
            "Ingredients                object\n",
            "Price                     float64\n",
            "Profitability              object\n",
            "IngredientsCount            int64\n",
            "PriceCategory            category\n",
            "MenuCategoryEncoded         int64\n",
            "Profitability_encoded       int64\n",
            "PriceCategory_Encoded    category\n",
            "dtype: object\n"
          ]
        }
      ]
    },
    {
      "cell_type": "code",
      "source": [
       
       
        "\n",
        "# Assuming 'data' is your DataFrame\n",
        "\n",
        "# Convert categorical features to numerical using one-hot encoding\n",
        "# Explicitly cast to float to ensure compatibility with TensorFlow\n",
        "X = pd.get_dummies(data[['PriceCategory_Encoded', 'MenuItem', 'MenuCategoryEncoded', 'Ingredients']]).astype(float)\n",
        "# Subtract 1 from 'Profitability_encoded' and cast to float before one-hot encoding\n",
        "y = to_categorical(data['Profitability_encoded'].astype(float) - 1)\n",
        "\n",
        "\n"
      ],
      "metadata": {
        "id": "LKIyWTdMB2Pw"
      },
      "execution_count": 34,
      "outputs": []
    },
    {
      "cell_type": "code",
      "source": [
        "# Split the data into training and testing sets\n",
        "X_train, X_test, y_train, y_test = train_test_split(X, y, test_size=0.2, random_state=42)"
      ],
      "metadata": {
        "id": "Afr6AULa-3SN"
      },
      "execution_count": 35,
      "outputs": []
    },
    {
      "cell_type": "code",
      "source": [

        "\n",
        "# Build the neural network model\n",
        "model = Sequential()\n",
        "model.add(Dense(64, input_dim=X_train.shape[1], activation='relu'))\n",
        "model.add(Dropout(0.5))  # Adding dropout for regularization\n",
        "model.add(Dense(32, activation='relu'))\n",
        "model.add(Dense(3, activation='softmax'))  # Output layer for 3 classes"
      ],
      "metadata": {
        "colab": {
          "base_uri": "https://localhost:8080/"
        },
        "id": "GPzkGQ7SACfA",
        "outputId": "9ba2154b-e6c9-4351-cbc3-0dc9395b8166"
      },
      "execution_count": 36,
      "outputs": [
        {
          "output_type": "stream",
          "name": "stderr",
          "text": [
            "/usr/local/lib/python3.10/dist-packages/keras/src/layers/core/dense.py:87: UserWarning: Do not pass an `input_shape`/`input_dim` argument to a layer. When using Sequential models, prefer using an `Input(shape)` object as the first layer in the model instead.\n",
            "  super().__init__(activity_regularizer=activity_regularizer, **kwargs)\n"
          ]
        }
      ]
    },
    {
      "cell_type": "code",
      "source": [
        "# Compile the model\n",
        "model.compile(loss='categorical_crossentropy', optimizer='adam', metrics=['accuracy'])"
      ],
      "metadata": {
        "id": "FNhuZe_6AVkB"
      },
      "execution_count": 37,
      "outputs": []
    },
    {
      "cell_type": "code",
      "source": [
        "# Train the model\n",
        "model.fit(X_train, y_train, epochs=50, batch_size=32, validation_split=0.2, verbose=2)"
      ],
      "metadata": {
        "colab": {
          "base_uri": "https://localhost:8080/"
        },
        "id": "z2GBvlKRAcQ7",
        "outputId": "e1d4929e-f17a-4c8c-f10e-34e503b16f6a"
      },
      "execution_count": 38,
      "outputs": [
        {
          "output_type": "stream",
          "name": "stdout",
          "text": [
            "Epoch 1/50\n",
            "20/20 - 2s - 88ms/step - accuracy: 0.4469 - loss: 1.0498 - val_accuracy: 0.6812 - val_loss: 0.9381\n",
            "Epoch 2/50\n",
            "20/20 - 0s - 10ms/step - accuracy: 0.5453 - loss: 0.9290 - val_accuracy: 0.6875 - val_loss: 0.8383\n",
            "Epoch 3/50\n",
            "20/20 - 0s - 7ms/step - accuracy: 0.6094 - loss: 0.8794 - val_accuracy: 0.6875 - val_loss: 0.7759\n",
            "Epoch 4/50\n",
            "20/20 - 0s - 6ms/step - accuracy: 0.6109 - loss: 0.8339 - val_accuracy: 0.6750 - val_loss: 0.7301\n",
            "Epoch 5/50\n",
            "20/20 - 0s - 7ms/step - accuracy: 0.6234 - loss: 0.7997 - val_accuracy: 0.6875 - val_loss: 0.7037\n",
            "Epoch 6/50\n",
            "20/20 - 0s - 7ms/step - accuracy: 0.6375 - loss: 0.7800 - val_accuracy: 0.7125 - val_loss: 0.6827\n",
            "Epoch 7/50\n",
            "20/20 - 0s - 7ms/step - accuracy: 0.6219 - loss: 0.7593 - val_accuracy: 0.7125 - val_loss: 0.6726\n",
            "Epoch 8/50\n",
            "20/20 - 0s - 15ms/step - accuracy: 0.6344 - loss: 0.7782 - val_accuracy: 0.7188 - val_loss: 0.6600\n",
            "Epoch 9/50\n",
            "20/20 - 0s - 14ms/step - accuracy: 0.6078 - loss: 0.7792 - val_accuracy: 0.7125 - val_loss: 0.6585\n",
            "Epoch 10/50\n",
            "20/20 - 0s - 7ms/step - accuracy: 0.6344 - loss: 0.7585 - val_accuracy: 0.7125 - val_loss: 0.6575\n",
            "Epoch 11/50\n",
            "20/20 - 0s - 14ms/step - accuracy: 0.6375 - loss: 0.7494 - val_accuracy: 0.7125 - val_loss: 0.6497\n",
            "Epoch 12/50\n",
            "20/20 - 0s - 8ms/step - accuracy: 0.6484 - loss: 0.7272 - val_accuracy: 0.7125 - val_loss: 0.6424\n",
            "Epoch 13/50\n",
            "20/20 - 0s - 5ms/step - accuracy: 0.6453 - loss: 0.7343 - val_accuracy: 0.7125 - val_loss: 0.6357\n",
            "Epoch 14/50\n",
            "20/20 - 0s - 6ms/step - accuracy: 0.6750 - loss: 0.7203 - val_accuracy: 0.7125 - val_loss: 0.6375\n",
            "Epoch 15/50\n",
            "20/20 - 0s - 4ms/step - accuracy: 0.6547 - loss: 0.7170 - val_accuracy: 0.7063 - val_loss: 0.6292\n",
            "Epoch 16/50\n",
            "20/20 - 0s - 7ms/step - accuracy: 0.6500 - loss: 0.7244 - val_accuracy: 0.7063 - val_loss: 0.6320\n",
            "Epoch 17/50\n",
            "20/20 - 0s - 4ms/step - accuracy: 0.6469 - loss: 0.7265 - val_accuracy: 0.7125 - val_loss: 0.6293\n",
            "Epoch 18/50\n",
            "20/20 - 0s - 4ms/step - accuracy: 0.6328 - loss: 0.7349 - val_accuracy: 0.7125 - val_loss: 0.6351\n",
            "Epoch 19/50\n",
            "20/20 - 0s - 7ms/step - accuracy: 0.6547 - loss: 0.7016 - val_accuracy: 0.7125 - val_loss: 0.6300\n",
            "Epoch 20/50\n",
            "20/20 - 0s - 8ms/step - accuracy: 0.6422 - loss: 0.7254 - val_accuracy: 0.7063 - val_loss: 0.6299\n",
            "Epoch 21/50\n",
            "20/20 - 0s - 6ms/step - accuracy: 0.6547 - loss: 0.6894 - val_accuracy: 0.7063 - val_loss: 0.6301\n",
            "Epoch 22/50\n",
            "20/20 - 0s - 7ms/step - accuracy: 0.6562 - loss: 0.7183 - val_accuracy: 0.7063 - val_loss: 0.6286\n",
            "Epoch 23/50\n",
            "20/20 - 0s - 6ms/step - accuracy: 0.6609 - loss: 0.7022 - val_accuracy: 0.7063 - val_loss: 0.6308\n",
            "Epoch 24/50\n",
            "20/20 - 0s - 4ms/step - accuracy: 0.6531 - loss: 0.7059 - val_accuracy: 0.7063 - val_loss: 0.6273\n",
            "Epoch 25/50\n",
            "20/20 - 0s - 7ms/step - accuracy: 0.6453 - loss: 0.7116 - val_accuracy: 0.7063 - val_loss: 0.6246\n",
            "Epoch 26/50\n",
            "20/20 - 0s - 6ms/step - accuracy: 0.6469 - loss: 0.7011 - val_accuracy: 0.7063 - val_loss: 0.6302\n",
            "Epoch 27/50\n",
            "20/20 - 0s - 7ms/step - accuracy: 0.6484 - loss: 0.6989 - val_accuracy: 0.6812 - val_loss: 0.6287\n",
            "Epoch 28/50\n",
            "20/20 - 0s - 5ms/step - accuracy: 0.6656 - loss: 0.6964 - val_accuracy: 0.7125 - val_loss: 0.6278\n",
            "Epoch 29/50\n",
            "20/20 - 0s - 7ms/step - accuracy: 0.6578 - loss: 0.7072 - val_accuracy: 0.7063 - val_loss: 0.6299\n",
            "Epoch 30/50\n",
            "20/20 - 0s - 7ms/step - accuracy: 0.6438 - loss: 0.7180 - val_accuracy: 0.7063 - val_loss: 0.6304\n",
            "Epoch 31/50\n",
            "20/20 - 0s - 6ms/step - accuracy: 0.6578 - loss: 0.6835 - val_accuracy: 0.7063 - val_loss: 0.6278\n",
            "Epoch 32/50\n",
            "20/20 - 0s - 4ms/step - accuracy: 0.6766 - loss: 0.6799 - val_accuracy: 0.7125 - val_loss: 0.6289\n",
            "Epoch 33/50\n",
            "20/20 - 0s - 4ms/step - accuracy: 0.6469 - loss: 0.6834 - val_accuracy: 0.7125 - val_loss: 0.6269\n",
            "Epoch 34/50\n",
            "20/20 - 0s - 4ms/step - accuracy: 0.6719 - loss: 0.6810 - val_accuracy: 0.6750 - val_loss: 0.6318\n",
            "Epoch 35/50\n",
            "20/20 - 0s - 8ms/step - accuracy: 0.6578 - loss: 0.6914 - val_accuracy: 0.7063 - val_loss: 0.6285\n",
            "Epoch 36/50\n",
            "20/20 - 0s - 7ms/step - accuracy: 0.6672 - loss: 0.6918 - val_accuracy: 0.7063 - val_loss: 0.6281\n",
            "Epoch 37/50\n",
            "20/20 - 0s - 4ms/step - accuracy: 0.6562 - loss: 0.7006 - val_accuracy: 0.6750 - val_loss: 0.6308\n",
            "Epoch 38/50\n",
            "20/20 - 0s - 7ms/step - accuracy: 0.6594 - loss: 0.6937 - val_accuracy: 0.6938 - val_loss: 0.6293\n",
            "Epoch 39/50\n",
            "20/20 - 0s - 5ms/step - accuracy: 0.6781 - loss: 0.6712 - val_accuracy: 0.7125 - val_loss: 0.6311\n",
            "Epoch 40/50\n",
            "20/20 - 0s - 6ms/step - accuracy: 0.6687 - loss: 0.6798 - val_accuracy: 0.7125 - val_loss: 0.6304\n",
            "Epoch 41/50\n",
            "20/20 - 0s - 8ms/step - accuracy: 0.6766 - loss: 0.6873 - val_accuracy: 0.7063 - val_loss: 0.6315\n",
            "Epoch 42/50\n",
            "20/20 - 0s - 7ms/step - accuracy: 0.6625 - loss: 0.6791 - val_accuracy: 0.6938 - val_loss: 0.6289\n",
            "Epoch 43/50\n",
            "20/20 - 0s - 4ms/step - accuracy: 0.6531 - loss: 0.6947 - val_accuracy: 0.6750 - val_loss: 0.6282\n",
            "Epoch 44/50\n",
            "20/20 - 0s - 5ms/step - accuracy: 0.6547 - loss: 0.6880 - val_accuracy: 0.6812 - val_loss: 0.6285\n",
            "Epoch 45/50\n",
            "20/20 - 0s - 7ms/step - accuracy: 0.6547 - loss: 0.6806 - val_accuracy: 0.7125 - val_loss: 0.6256\n",
            "Epoch 46/50\n",
            "20/20 - 0s - 4ms/step - accuracy: 0.6625 - loss: 0.6887 - val_accuracy: 0.7063 - val_loss: 0.6268\n",
            "Epoch 47/50\n",
            "20/20 - 0s - 4ms/step - accuracy: 0.6578 - loss: 0.6764 - val_accuracy: 0.7125 - val_loss: 0.6259\n",
            "Epoch 48/50\n",
            "20/20 - 0s - 5ms/step - accuracy: 0.6578 - loss: 0.6935 - val_accuracy: 0.7125 - val_loss: 0.6248\n",
            "Epoch 49/50\n",
            "20/20 - 0s - 7ms/step - accuracy: 0.6734 - loss: 0.6767 - val_accuracy: 0.7125 - val_loss: 0.6248\n",
            "Epoch 50/50\n",
            "20/20 - 0s - 4ms/step - accuracy: 0.6656 - loss: 0.6802 - val_accuracy: 0.7063 - val_loss: 0.6265\n"
          ]
        },
        {
          "output_type": "execute_result",
          "data": {
            "text/plain": [
              "<keras.src.callbacks.history.History at 0x7cdbeb688460>"
            ]
          },
          "metadata": {},
          "execution_count": 38
        }
      ]
    },
    {
      "cell_type": "code",
      "source": [
        "# Evaluate the model\n",
        "loss, accuracy = model.evaluate(X_test, y_test)\n",
        "print(f'Test Accuracy: {accuracy:.4f}')"
      ],
      "metadata": {
        "colab": {
          "base_uri": "https://localhost:8080/"
        },
        "id": "JlrakRgvDEzk",
        "outputId": "4d5b1207-9c83-4704-fb6a-d5e55881eb74"
      },
      "execution_count": 39,
      "outputs": [
        {
          "output_type": "stream",
          "name": "stdout",
          "text": [
            "\u001b[1m7/7\u001b[0m \u001b[32m━━━━━━━━━━━━━━━━━━━━\u001b[0m\u001b[37m\u001b[0m \u001b[1m0s\u001b[0m 2ms/step - accuracy: 0.6821 - loss: 0.7514  \n",
            "Test Accuracy: 0.6700\n"
          ]
        }
      ]
    },
    {
      "cell_type": "code",
      "source": [
        "!pip install keras-tuner"
      ],
      "metadata": {
        "colab": {
          "base_uri": "https://localhost:8080/"
        },
        "id": "U5_KEyU0EsnD",
        "outputId": "2ac78f59-dd86-4577-a103-11ae650264a9"
      },
      "execution_count": 41,
      "outputs": [
        {
          "output_type": "stream",
          "name": "stdout",
          "text": [
            "Collecting keras-tuner\n",
            "  Downloading keras_tuner-1.4.7-py3-none-any.whl.metadata (5.4 kB)\n",
            "Requirement already satisfied: keras in /usr/local/lib/python3.10/dist-packages (from keras-tuner) (3.4.1)\n",
            "Requirement already satisfied: packaging in /usr/local/lib/python3.10/dist-packages (from keras-tuner) (24.1)\n",
            "Requirement already satisfied: requests in /usr/local/lib/python3.10/dist-packages (from keras-tuner) (2.31.0)\n",
            "Collecting kt-legacy (from keras-tuner)\n",
            "  Downloading kt_legacy-1.0.5-py3-none-any.whl.metadata (221 bytes)\n",
            "Requirement already satisfied: absl-py in /usr/local/lib/python3.10/dist-packages (from keras->keras-tuner) (1.4.0)\n",
            "Requirement already satisfied: numpy in /usr/local/lib/python3.10/dist-packages (from keras->keras-tuner) (1.26.4)\n",
            "Requirement already satisfied: rich in /usr/local/lib/python3.10/dist-packages (from keras->keras-tuner) (13.7.1)\n",
            "Requirement already satisfied: namex in /usr/local/lib/python3.10/dist-packages (from keras->keras-tuner) (0.0.8)\n",
            "Requirement already satisfied: h5py in /usr/local/lib/python3.10/dist-packages (from keras->keras-tuner) (3.11.0)\n",
            "Requirement already satisfied: optree in /usr/local/lib/python3.10/dist-packages (from keras->keras-tuner) (0.12.1)\n",
            "Requirement already satisfied: ml-dtypes in /usr/local/lib/python3.10/dist-packages (from keras->keras-tuner) (0.4.0)\n",
            "Requirement already satisfied: charset-normalizer<4,>=2 in /usr/local/lib/python3.10/dist-packages (from requests->keras-tuner) (3.3.2)\n",
            "Requirement already satisfied: idna<4,>=2.5 in /usr/local/lib/python3.10/dist-packages (from requests->keras-tuner) (3.7)\n",
            "Requirement already satisfied: urllib3<3,>=1.21.1 in /usr/local/lib/python3.10/dist-packages (from requests->keras-tuner) (2.0.7)\n",
            "Requirement already satisfied: certifi>=2017.4.17 in /usr/local/lib/python3.10/dist-packages (from requests->keras-tuner) (2024.7.4)\n",
            "Requirement already satisfied: typing-extensions>=4.5.0 in /usr/local/lib/python3.10/dist-packages (from optree->keras->keras-tuner) (4.12.2)\n",
            "Requirement already satisfied: markdown-it-py>=2.2.0 in /usr/local/lib/python3.10/dist-packages (from rich->keras->keras-tuner) (3.0.0)\n",
            "Requirement already satisfied: pygments<3.0.0,>=2.13.0 in /usr/local/lib/python3.10/dist-packages (from rich->keras->keras-tuner) (2.16.1)\n",
            "Requirement already satisfied: mdurl~=0.1 in /usr/local/lib/python3.10/dist-packages (from markdown-it-py>=2.2.0->rich->keras->keras-tuner) (0.1.2)\n",
            "Downloading keras_tuner-1.4.7-py3-none-any.whl (129 kB)\n",
            "\u001b[2K   \u001b[90m━━━━━━━━━━━━━━━━━━━━━━━━━━━━━━━━━━━━━━━━\u001b[0m \u001b[32m129.1/129.1 kB\u001b[0m \u001b[31m2.8 MB/s\u001b[0m eta \u001b[36m0:00:00\u001b[0m\n",
            "\u001b[?25hDownloading kt_legacy-1.0.5-py3-none-any.whl (9.6 kB)\n",
            "Installing collected packages: kt-legacy, keras-tuner\n",
            "Successfully installed keras-tuner-1.4.7 kt-legacy-1.0.5\n"
          ]
        }
      ]
    },
    {
      "cell_type": "code",
      "source": [
        
        "\n",
        "# Define a function to build the model\n",
        "def build_model(hp):\n",
        "    model = Sequential()\n",
        "    # Tune the number of units in the first Dense layer\n",
        "    hp_units = hp.Int('units', min_value=32, max_value=512, step=32)\n",
        "    model.add(Dense(units=hp_units, activation='relu', input_dim=X_train.shape[1]))\n",
        "\n",
        "    # Tune the dropout rate\n",
        "    hp_dropout = hp.Float('dropout', min_value=0.0, max_value=0.5, step=0.1)\n",
        "    model.add(Dropout(rate=hp_dropout))\n",
        "\n",
        "    # Add more layers with tuning options\n",
        "    for i in range(hp.Int('num_layers', 1, 3)):\n",
        "        model.add(Dense(units=hp.Int('units_' + str(i), min_value=32, max_value=512, step=32), activation='relu'))\n",
        "        model.add(Dropout(rate=hp.Float('dropout_' + str(i), min_value=0.0, max_value=0.5, step=0.1)))\n",
        "\n",
        "    model.add(Dense(3, activation='softmax'))  # Output layer for 3 classes\n",
        "\n",
        "    # Tune the learning rate for the optimizer\n",
        "    hp_learning_rate = hp.Float('learning_rate', min_value=1e-4, max_value=1e-2, sampling='LOG')\n",
        "    model.compile(optimizer=tf.keras.optimizers.Adam(learning_rate=hp_learning_rate),\n",
        "                  loss='categorical_crossentropy',\n",
        "                  metrics=['accuracy'])\n",
        "\n",
        "    return model\n",
        "\n",
        "# Instantiate the tuner\n",
        "tuner = RandomSearch(\n",
        "    build_model,\n",
        "    objective='val_accuracy',\n",
        "    max_trials=10,\n",
        "    executions_per_trial=1,\n",
        "    directory='my_dir',\n",
        "    project_name='menu_profitability')\n",
        "\n",
        "# Perform the search\n",
        "tuner.search(X_train, y_train, epochs=50, validation_split=0.2)\n",
        "\n",
        "# Get the optimal hyperparameters\n",
        "best_hps = tuner.get_best_hyperparameters(num_trials=1)[0]\n",
        "print(f\"\"\"\n",
        "The optimal number of units in the first densely-connected layer is {best_hps.get('units')}.\n",
        "The optimal learning rate for the optimizer is {best_hps.get('learning_rate')}.\n",
        "\"\"\")\n",
        "\n",
        "# Build the model with the optimal hyperparameters and train it\n",
        "model = tuner.hypermodel.build(best_hps)\n",
        "history = model.fit(X_train, y_train, epochs=50, validation_split=0.2)\n"
      ],
      "metadata": {
        "colab": {
          "base_uri": "https://localhost:8080/"
        },
        "id": "gTGEsD5rEP5d",
        "outputId": "e0d78514-51f9-4542-bd82-fa0d29671eba"
      },
      "execution_count": 42,
      "outputs": [
        {
          "output_type": "stream",
          "name": "stdout",
          "text": [
            "Trial 10 Complete [00h 00m 11s]\n",
            "val_accuracy: 0.71875\n",
            "\n",
            "Best val_accuracy So Far: 0.7250000238418579\n",
            "Total elapsed time: 00h 02m 29s\n",
            "\n",
            "The optimal number of units in the first densely-connected layer is 160.\n",
            "The optimal learning rate for the optimizer is 0.0004373927953369722.\n",
            "\n",
            "Epoch 1/50\n"
          ]
        },
        {
          "output_type": "stream",
          "name": "stderr",
          "text": [
            "/usr/local/lib/python3.10/dist-packages/keras/src/layers/core/dense.py:87: UserWarning: Do not pass an `input_shape`/`input_dim` argument to a layer. When using Sequential models, prefer using an `Input(shape)` object as the first layer in the model instead.\n",
            "  super().__init__(activity_regularizer=activity_regularizer, **kwargs)\n"
          ]
        },
        {
          "output_type": "stream",
          "name": "stdout",
          "text": [
            "\u001b[1m20/20\u001b[0m \u001b[32m━━━━━━━━━━━━━━━━━━━━\u001b[0m\u001b[37m\u001b[0m \u001b[1m2s\u001b[0m 15ms/step - accuracy: 0.4423 - loss: 1.0377 - val_accuracy: 0.6438 - val_loss: 0.8360\n",
            "Epoch 2/50\n",
            "\u001b[1m20/20\u001b[0m \u001b[32m━━━━━━━━━━━━━━━━━━━━\u001b[0m\u001b[37m\u001b[0m \u001b[1m0s\u001b[0m 5ms/step - accuracy: 0.5721 - loss: 0.8895 - val_accuracy: 0.6438 - val_loss: 0.7316\n",
            "Epoch 3/50\n",
            "\u001b[1m20/20\u001b[0m \u001b[32m━━━━━━━━━━━━━━━━━━━━\u001b[0m\u001b[37m\u001b[0m \u001b[1m0s\u001b[0m 7ms/step - accuracy: 0.5972 - loss: 0.7909 - val_accuracy: 0.6750 - val_loss: 0.6719\n",
            "Epoch 4/50\n",
            "\u001b[1m20/20\u001b[0m \u001b[32m━━━━━━━━━━━━━━━━━━━━\u001b[0m\u001b[37m\u001b[0m \u001b[1m0s\u001b[0m 6ms/step - accuracy: 0.6711 - loss: 0.7254 - val_accuracy: 0.6812 - val_loss: 0.6577\n",
            "Epoch 5/50\n",
            "\u001b[1m20/20\u001b[0m \u001b[32m━━━━━━━━━━━━━━━━━━━━\u001b[0m\u001b[37m\u001b[0m \u001b[1m0s\u001b[0m 7ms/step - accuracy: 0.6781 - loss: 0.6924 - val_accuracy: 0.7063 - val_loss: 0.6343\n",
            "Epoch 6/50\n",
            "\u001b[1m20/20\u001b[0m \u001b[32m━━━━━━━━━━━━━━━━━━━━\u001b[0m\u001b[37m\u001b[0m \u001b[1m0s\u001b[0m 6ms/step - accuracy: 0.6443 - loss: 0.6803 - val_accuracy: 0.7125 - val_loss: 0.6293\n",
            "Epoch 7/50\n",
            "\u001b[1m20/20\u001b[0m \u001b[32m━━━━━━━━━━━━━━━━━━━━\u001b[0m\u001b[37m\u001b[0m \u001b[1m0s\u001b[0m 6ms/step - accuracy: 0.6685 - loss: 0.6730 - val_accuracy: 0.7063 - val_loss: 0.6267\n",
            "Epoch 8/50\n",
            "\u001b[1m20/20\u001b[0m \u001b[32m━━━━━━━━━━━━━━━━━━━━\u001b[0m\u001b[37m\u001b[0m \u001b[1m0s\u001b[0m 6ms/step - accuracy: 0.6547 - loss: 0.7100 - val_accuracy: 0.7125 - val_loss: 0.6242\n",
            "Epoch 9/50\n",
            "\u001b[1m20/20\u001b[0m \u001b[32m━━━━━━━━━━━━━━━━━━━━\u001b[0m\u001b[37m\u001b[0m \u001b[1m0s\u001b[0m 6ms/step - accuracy: 0.6836 - loss: 0.6812 - val_accuracy: 0.7125 - val_loss: 0.6270\n",
            "Epoch 10/50\n",
            "\u001b[1m20/20\u001b[0m \u001b[32m━━━━━━━━━━━━━━━━━━━━\u001b[0m\u001b[37m\u001b[0m \u001b[1m0s\u001b[0m 6ms/step - accuracy: 0.6884 - loss: 0.6526 - val_accuracy: 0.7063 - val_loss: 0.6211\n",
            "Epoch 11/50\n",
            "\u001b[1m20/20\u001b[0m \u001b[32m━━━━━━━━━━━━━━━━━━━━\u001b[0m\u001b[37m\u001b[0m \u001b[1m0s\u001b[0m 5ms/step - accuracy: 0.6353 - loss: 0.6949 - val_accuracy: 0.6812 - val_loss: 0.6273\n",
            "Epoch 12/50\n",
            "\u001b[1m20/20\u001b[0m \u001b[32m━━━━━━━━━━━━━━━━━━━━\u001b[0m\u001b[37m\u001b[0m \u001b[1m0s\u001b[0m 5ms/step - accuracy: 0.6559 - loss: 0.7082 - val_accuracy: 0.7125 - val_loss: 0.6176\n",
            "Epoch 13/50\n",
            "\u001b[1m20/20\u001b[0m \u001b[32m━━━━━━━━━━━━━━━━━━━━\u001b[0m\u001b[37m\u001b[0m \u001b[1m0s\u001b[0m 5ms/step - accuracy: 0.6443 - loss: 0.6763 - val_accuracy: 0.6812 - val_loss: 0.6199\n",
            "Epoch 14/50\n",
            "\u001b[1m20/20\u001b[0m \u001b[32m━━━━━━━━━━━━━━━━━━━━\u001b[0m\u001b[37m\u001b[0m \u001b[1m0s\u001b[0m 6ms/step - accuracy: 0.6671 - loss: 0.6623 - val_accuracy: 0.6750 - val_loss: 0.6209\n",
            "Epoch 15/50\n",
            "\u001b[1m20/20\u001b[0m \u001b[32m━━━━━━━━━━━━━━━━━━━━\u001b[0m\u001b[37m\u001b[0m \u001b[1m0s\u001b[0m 6ms/step - accuracy: 0.6818 - loss: 0.6823 - val_accuracy: 0.6812 - val_loss: 0.6243\n",
            "Epoch 16/50\n",
            "\u001b[1m20/20\u001b[0m \u001b[32m━━━━━━━━━━━━━━━━━━━━\u001b[0m\u001b[37m\u001b[0m \u001b[1m0s\u001b[0m 6ms/step - accuracy: 0.6366 - loss: 0.7200 - val_accuracy: 0.7125 - val_loss: 0.6165\n",
            "Epoch 17/50\n",
            "\u001b[1m20/20\u001b[0m \u001b[32m━━━━━━━━━━━━━━━━━━━━\u001b[0m\u001b[37m\u001b[0m \u001b[1m0s\u001b[0m 5ms/step - accuracy: 0.6656 - loss: 0.6934 - val_accuracy: 0.7125 - val_loss: 0.6174\n",
            "Epoch 18/50\n",
            "\u001b[1m20/20\u001b[0m \u001b[32m━━━━━━━━━━━━━━━━━━━━\u001b[0m\u001b[37m\u001b[0m \u001b[1m0s\u001b[0m 5ms/step - accuracy: 0.6780 - loss: 0.6591 - val_accuracy: 0.6812 - val_loss: 0.6200\n",
            "Epoch 19/50\n",
            "\u001b[1m20/20\u001b[0m \u001b[32m━━━━━━━━━━━━━━━━━━━━\u001b[0m\u001b[37m\u001b[0m \u001b[1m0s\u001b[0m 6ms/step - accuracy: 0.6523 - loss: 0.6960 - val_accuracy: 0.7125 - val_loss: 0.6201\n",
            "Epoch 20/50\n",
            "\u001b[1m20/20\u001b[0m \u001b[32m━━━━━━━━━━━━━━━━━━━━\u001b[0m\u001b[37m\u001b[0m \u001b[1m0s\u001b[0m 6ms/step - accuracy: 0.6706 - loss: 0.6477 - val_accuracy: 0.7125 - val_loss: 0.6235\n",
            "Epoch 21/50\n",
            "\u001b[1m20/20\u001b[0m \u001b[32m━━━━━━━━━━━━━━━━━━━━\u001b[0m\u001b[37m\u001b[0m \u001b[1m0s\u001b[0m 6ms/step - accuracy: 0.6533 - loss: 0.6833 - val_accuracy: 0.6812 - val_loss: 0.6203\n",
            "Epoch 22/50\n",
            "\u001b[1m20/20\u001b[0m \u001b[32m━━━━━━━━━━━━━━━━━━━━\u001b[0m\u001b[37m\u001b[0m \u001b[1m0s\u001b[0m 6ms/step - accuracy: 0.6434 - loss: 0.6820 - val_accuracy: 0.7125 - val_loss: 0.6222\n",
            "Epoch 23/50\n",
            "\u001b[1m20/20\u001b[0m \u001b[32m━━━━━━━━━━━━━━━━━━━━\u001b[0m\u001b[37m\u001b[0m \u001b[1m0s\u001b[0m 6ms/step - accuracy: 0.6284 - loss: 0.7053 - val_accuracy: 0.7125 - val_loss: 0.6159\n",
            "Epoch 24/50\n",
            "\u001b[1m20/20\u001b[0m \u001b[32m━━━━━━━━━━━━━━━━━━━━\u001b[0m\u001b[37m\u001b[0m \u001b[1m0s\u001b[0m 5ms/step - accuracy: 0.6322 - loss: 0.6791 - val_accuracy: 0.6812 - val_loss: 0.6213\n",
            "Epoch 25/50\n",
            "\u001b[1m20/20\u001b[0m \u001b[32m━━━━━━━━━━━━━━━━━━━━\u001b[0m\u001b[37m\u001b[0m \u001b[1m0s\u001b[0m 6ms/step - accuracy: 0.6834 - loss: 0.6582 - val_accuracy: 0.7125 - val_loss: 0.6196\n",
            "Epoch 26/50\n",
            "\u001b[1m20/20\u001b[0m \u001b[32m━━━━━━━━━━━━━━━━━━━━\u001b[0m\u001b[37m\u001b[0m \u001b[1m0s\u001b[0m 6ms/step - accuracy: 0.6653 - loss: 0.6462 - val_accuracy: 0.7125 - val_loss: 0.6176\n",
            "Epoch 27/50\n",
            "\u001b[1m20/20\u001b[0m \u001b[32m━━━━━━━━━━━━━━━━━━━━\u001b[0m\u001b[37m\u001b[0m \u001b[1m0s\u001b[0m 5ms/step - accuracy: 0.7084 - loss: 0.6157 - val_accuracy: 0.6812 - val_loss: 0.6221\n",
            "Epoch 28/50\n",
            "\u001b[1m20/20\u001b[0m \u001b[32m━━━━━━━━━━━━━━━━━━━━\u001b[0m\u001b[37m\u001b[0m \u001b[1m0s\u001b[0m 6ms/step - accuracy: 0.6830 - loss: 0.6482 - val_accuracy: 0.6812 - val_loss: 0.6213\n",
            "Epoch 29/50\n",
            "\u001b[1m20/20\u001b[0m \u001b[32m━━━━━━━━━━━━━━━━━━━━\u001b[0m\u001b[37m\u001b[0m \u001b[1m0s\u001b[0m 7ms/step - accuracy: 0.6698 - loss: 0.6651 - val_accuracy: 0.6812 - val_loss: 0.6257\n",
            "Epoch 30/50\n",
            "\u001b[1m20/20\u001b[0m \u001b[32m━━━━━━━━━━━━━━━━━━━━\u001b[0m\u001b[37m\u001b[0m \u001b[1m0s\u001b[0m 5ms/step - accuracy: 0.6772 - loss: 0.6746 - val_accuracy: 0.7125 - val_loss: 0.6169\n",
            "Epoch 31/50\n",
            "\u001b[1m20/20\u001b[0m \u001b[32m━━━━━━━━━━━━━━━━━━━━\u001b[0m\u001b[37m\u001b[0m \u001b[1m0s\u001b[0m 6ms/step - accuracy: 0.6552 - loss: 0.7030 - val_accuracy: 0.7125 - val_loss: 0.6158\n",
            "Epoch 32/50\n",
            "\u001b[1m20/20\u001b[0m \u001b[32m━━━━━━━━━━━━━━━━━━━━\u001b[0m\u001b[37m\u001b[0m \u001b[1m0s\u001b[0m 7ms/step - accuracy: 0.6811 - loss: 0.6301 - val_accuracy: 0.7125 - val_loss: 0.6138\n",
            "Epoch 33/50\n",
            "\u001b[1m20/20\u001b[0m \u001b[32m━━━━━━━━━━━━━━━━━━━━\u001b[0m\u001b[37m\u001b[0m \u001b[1m0s\u001b[0m 5ms/step - accuracy: 0.6533 - loss: 0.6822 - val_accuracy: 0.6812 - val_loss: 0.6198\n",
            "Epoch 34/50\n",
            "\u001b[1m20/20\u001b[0m \u001b[32m━━━━━━━━━━━━━━━━━━━━\u001b[0m\u001b[37m\u001b[0m \u001b[1m0s\u001b[0m 7ms/step - accuracy: 0.6443 - loss: 0.6975 - val_accuracy: 0.7125 - val_loss: 0.6197\n",
            "Epoch 35/50\n",
            "\u001b[1m20/20\u001b[0m \u001b[32m━━━━━━━━━━━━━━━━━━━━\u001b[0m\u001b[37m\u001b[0m \u001b[1m0s\u001b[0m 5ms/step - accuracy: 0.6659 - loss: 0.6495 - val_accuracy: 0.7125 - val_loss: 0.6134\n",
            "Epoch 36/50\n",
            "\u001b[1m20/20\u001b[0m \u001b[32m━━━━━━━━━━━━━━━━━━━━\u001b[0m\u001b[37m\u001b[0m \u001b[1m0s\u001b[0m 6ms/step - accuracy: 0.6884 - loss: 0.6330 - val_accuracy: 0.6812 - val_loss: 0.6177\n",
            "Epoch 37/50\n",
            "\u001b[1m20/20\u001b[0m \u001b[32m━━━━━━━━━━━━━━━━━━━━\u001b[0m\u001b[37m\u001b[0m \u001b[1m0s\u001b[0m 5ms/step - accuracy: 0.6868 - loss: 0.6302 - val_accuracy: 0.7125 - val_loss: 0.6159\n",
            "Epoch 38/50\n",
            "\u001b[1m20/20\u001b[0m \u001b[32m━━━━━━━━━━━━━━━━━━━━\u001b[0m\u001b[37m\u001b[0m \u001b[1m0s\u001b[0m 5ms/step - accuracy: 0.6642 - loss: 0.6911 - val_accuracy: 0.6750 - val_loss: 0.6207\n",
            "Epoch 39/50\n",
            "\u001b[1m20/20\u001b[0m \u001b[32m━━━━━━━━━━━━━━━━━━━━\u001b[0m\u001b[37m\u001b[0m \u001b[1m0s\u001b[0m 6ms/step - accuracy: 0.6765 - loss: 0.6601 - val_accuracy: 0.7125 - val_loss: 0.6151\n",
            "Epoch 40/50\n",
            "\u001b[1m20/20\u001b[0m \u001b[32m━━━━━━━━━━━━━━━━━━━━\u001b[0m\u001b[37m\u001b[0m \u001b[1m0s\u001b[0m 9ms/step - accuracy: 0.6622 - loss: 0.6720 - val_accuracy: 0.7125 - val_loss: 0.6205\n",
            "Epoch 41/50\n",
            "\u001b[1m20/20\u001b[0m \u001b[32m━━━━━━━━━━━━━━━━━━━━\u001b[0m\u001b[37m\u001b[0m \u001b[1m0s\u001b[0m 11ms/step - accuracy: 0.6838 - loss: 0.6382 - val_accuracy: 0.7125 - val_loss: 0.6203\n",
            "Epoch 42/50\n",
            "\u001b[1m20/20\u001b[0m \u001b[32m━━━━━━━━━━━━━━━━━━━━\u001b[0m\u001b[37m\u001b[0m \u001b[1m0s\u001b[0m 8ms/step - accuracy: 0.6835 - loss: 0.6413 - val_accuracy: 0.7125 - val_loss: 0.6248\n",
            "Epoch 43/50\n",
            "\u001b[1m20/20\u001b[0m \u001b[32m━━━━━━━━━━━━━━━━━━━━\u001b[0m\u001b[37m\u001b[0m \u001b[1m0s\u001b[0m 10ms/step - accuracy: 0.6389 - loss: 0.6818 - val_accuracy: 0.6812 - val_loss: 0.6286\n",
            "Epoch 44/50\n",
            "\u001b[1m20/20\u001b[0m \u001b[32m━━━━━━━━━━━━━━━━━━━━\u001b[0m\u001b[37m\u001b[0m \u001b[1m0s\u001b[0m 9ms/step - accuracy: 0.6668 - loss: 0.6534 - val_accuracy: 0.7125 - val_loss: 0.6222\n",
            "Epoch 45/50\n",
            "\u001b[1m20/20\u001b[0m \u001b[32m━━━━━━━━━━━━━━━━━━━━\u001b[0m\u001b[37m\u001b[0m \u001b[1m0s\u001b[0m 10ms/step - accuracy: 0.6637 - loss: 0.6533 - val_accuracy: 0.7125 - val_loss: 0.6224\n",
            "Epoch 46/50\n",
            "\u001b[1m20/20\u001b[0m \u001b[32m━━━━━━━━━━━━━━━━━━━━\u001b[0m\u001b[37m\u001b[0m \u001b[1m0s\u001b[0m 10ms/step - accuracy: 0.6578 - loss: 0.6842 - val_accuracy: 0.6812 - val_loss: 0.6197\n",
            "Epoch 47/50\n",
            "\u001b[1m20/20\u001b[0m \u001b[32m━━━━━━━━━━━━━━━━━━━━\u001b[0m\u001b[37m\u001b[0m \u001b[1m0s\u001b[0m 10ms/step - accuracy: 0.6773 - loss: 0.6241 - val_accuracy: 0.7125 - val_loss: 0.6169\n",
            "Epoch 48/50\n",
            "\u001b[1m20/20\u001b[0m \u001b[32m━━━━━━━━━━━━━━━━━━━━\u001b[0m\u001b[37m\u001b[0m \u001b[1m0s\u001b[0m 11ms/step - accuracy: 0.6683 - loss: 0.6561 - val_accuracy: 0.7125 - val_loss: 0.6194\n",
            "Epoch 49/50\n",
            "\u001b[1m20/20\u001b[0m \u001b[32m━━━━━━━━━━━━━━━━━━━━\u001b[0m\u001b[37m\u001b[0m \u001b[1m0s\u001b[0m 9ms/step - accuracy: 0.6526 - loss: 0.6788 - val_accuracy: 0.7125 - val_loss: 0.6208\n",
            "Epoch 50/50\n",
            "\u001b[1m20/20\u001b[0m \u001b[32m━━━━━━━━━━━━━━━━━━━━\u001b[0m\u001b[37m\u001b[0m \u001b[1m0s\u001b[0m 11ms/step - accuracy: 0.6810 - loss: 0.6572 - val_accuracy: 0.7125 - val_loss: 0.6209\n"
          ]
        }
      ]
    },
    {
      "cell_type": "code",
      "source": [
        "# Evaluate the model\n",
        "loss, accuracy = model.evaluate(X_test, y_test)\n",
        "print(f'Test Accuracy: {accuracy:.4f}')"
      ],
      "metadata": {
        "colab": {
          "base_uri": "https://localhost:8080/"
        },
        "id": "LmNC_n6NFJmH",
        "outputId": "f8bc10fa-fcf0-413a-dc74-c2361b44e0ff"
      },
      "execution_count": 43,
      "outputs": [
        {
          "output_type": "stream",
          "name": "stdout",
          "text": [
            "\u001b[1m7/7\u001b[0m \u001b[32m━━━━━━━━━━━━━━━━━━━━\u001b[0m\u001b[37m\u001b[0m \u001b[1m0s\u001b[0m 4ms/step - accuracy: 0.6798 - loss: 0.7414  \n",
            "Test Accuracy: 0.6650\n"
          ]
        }
      ]
    },
    {
      "cell_type": "code",
      "source": [
       
        "\n",
        "# Build a more complex neural network model\n",
        "model = Sequential()\n",
        "model.add(Dense(256, input_dim=X_train.shape[1], activation='relu'))\n",
        "model.add(Dropout(0.5))  # Adding dropout for regularization\n",
        "model.add(Dense(128, activation='relu'))\n",
        "model.add(Dropout(0.5))\n",
        "model.add(Dense(64, activation='relu'))\n",
        "model.add(Dropout(0.5))\n",
        "model.add(Dense(3, activation='softmax'))  # Output layer for 3 classes\n",
        "\n",
        "# Compile the model\n",
        "model.compile(loss='categorical_crossentropy', optimizer='adam', metrics=['accuracy'])\n",
        "\n",
        "# Train the model with early stopping\n",
        "from tensorflow.keras.callbacks import EarlyStopping\n",
        "\n",
        "early_stopping = EarlyStopping(monitor='val_loss', patience=10, restore_best_weights=True)\n",
        "history = model.fit(X_train, y_train, epochs=100, batch_size=32, validation_split=0.2, callbacks=[early_stopping])\n",
        "\n",
        "# Evaluate the model\n",
        "loss, accuracy = model.evaluate(X_test, y_test)\n",
        "print(f'Test Accuracy: {accuracy:.4f}')\n"
      ],
      "metadata": {
        "colab": {
          "base_uri": "https://localhost:8080/"
        },
        "id": "vWbdgw67F9gT",
        "outputId": "1eeb5225-bd53-41ee-aa0c-40f2dbeba21b"
      },
      "execution_count": 44,
      "outputs": [
        {
          "output_type": "stream",
          "name": "stdout",
          "text": [
            "Epoch 1/100\n"
          ]
        },
        {
          "output_type": "stream",
          "name": "stderr",
          "text": [
            "/usr/local/lib/python3.10/dist-packages/keras/src/layers/core/dense.py:87: UserWarning: Do not pass an `input_shape`/`input_dim` argument to a layer. When using Sequential models, prefer using an `Input(shape)` object as the first layer in the model instead.\n",
            "  super().__init__(activity_regularizer=activity_regularizer, **kwargs)\n"
          ]
        },
        {
          "output_type": "stream",
          "name": "stdout",
          "text": [
            "\u001b[1m20/20\u001b[0m \u001b[32m━━━━━━━━━━━━━━━━━━━━\u001b[0m\u001b[37m\u001b[0m \u001b[1m2s\u001b[0m 15ms/step - accuracy: 0.4684 - loss: 1.0533 - val_accuracy: 0.6438 - val_loss: 0.8633\n",
            "Epoch 2/100\n",
            "\u001b[1m20/20\u001b[0m \u001b[32m━━━━━━━━━━━━━━━━━━━━\u001b[0m\u001b[37m\u001b[0m \u001b[1m0s\u001b[0m 4ms/step - accuracy: 0.5638 - loss: 0.9036 - val_accuracy: 0.6562 - val_loss: 0.7942\n",
            "Epoch 3/100\n",
            "\u001b[1m20/20\u001b[0m \u001b[32m━━━━━━━━━━━━━━━━━━━━\u001b[0m\u001b[37m\u001b[0m \u001b[1m0s\u001b[0m 5ms/step - accuracy: 0.5524 - loss: 0.8966 - val_accuracy: 0.6687 - val_loss: 0.7451\n",
            "Epoch 4/100\n",
            "\u001b[1m20/20\u001b[0m \u001b[32m━━━━━━━━━━━━━━━━━━━━\u001b[0m\u001b[37m\u001b[0m \u001b[1m0s\u001b[0m 4ms/step - accuracy: 0.5359 - loss: 0.8667 - val_accuracy: 0.6875 - val_loss: 0.7064\n",
            "Epoch 5/100\n",
            "\u001b[1m20/20\u001b[0m \u001b[32m━━━━━━━━━━━━━━━━━━━━\u001b[0m\u001b[37m\u001b[0m \u001b[1m0s\u001b[0m 4ms/step - accuracy: 0.6071 - loss: 0.8189 - val_accuracy: 0.6812 - val_loss: 0.6784\n",
            "Epoch 6/100\n",
            "\u001b[1m20/20\u001b[0m \u001b[32m━━━━━━━━━━━━━━━━━━━━\u001b[0m\u001b[37m\u001b[0m \u001b[1m0s\u001b[0m 4ms/step - accuracy: 0.6087 - loss: 0.8145 - val_accuracy: 0.7063 - val_loss: 0.6608\n",
            "Epoch 7/100\n",
            "\u001b[1m20/20\u001b[0m \u001b[32m━━━━━━━━━━━━━━━━━━━━\u001b[0m\u001b[37m\u001b[0m \u001b[1m0s\u001b[0m 7ms/step - accuracy: 0.5834 - loss: 0.7981 - val_accuracy: 0.7125 - val_loss: 0.6502\n",
            "Epoch 8/100\n",
            "\u001b[1m20/20\u001b[0m \u001b[32m━━━━━━━━━━━━━━━━━━━━\u001b[0m\u001b[37m\u001b[0m \u001b[1m0s\u001b[0m 14ms/step - accuracy: 0.6676 - loss: 0.7593 - val_accuracy: 0.7125 - val_loss: 0.6379\n",
            "Epoch 9/100\n",
            "\u001b[1m20/20\u001b[0m \u001b[32m━━━━━━━━━━━━━━━━━━━━\u001b[0m\u001b[37m\u001b[0m \u001b[1m0s\u001b[0m 7ms/step - accuracy: 0.6647 - loss: 0.7468 - val_accuracy: 0.7125 - val_loss: 0.6310\n",
            "Epoch 10/100\n",
            "\u001b[1m20/20\u001b[0m \u001b[32m━━━━━━━━━━━━━━━━━━━━\u001b[0m\u001b[37m\u001b[0m \u001b[1m0s\u001b[0m 12ms/step - accuracy: 0.6410 - loss: 0.7610 - val_accuracy: 0.7125 - val_loss: 0.6302\n",
            "Epoch 11/100\n",
            "\u001b[1m20/20\u001b[0m \u001b[32m━━━━━━━━━━━━━━━━━━━━\u001b[0m\u001b[37m\u001b[0m \u001b[1m0s\u001b[0m 13ms/step - accuracy: 0.6906 - loss: 0.7051 - val_accuracy: 0.7125 - val_loss: 0.6248\n",
            "Epoch 12/100\n",
            "\u001b[1m20/20\u001b[0m \u001b[32m━━━━━━━━━━━━━━━━━━━━\u001b[0m\u001b[37m\u001b[0m \u001b[1m0s\u001b[0m 7ms/step - accuracy: 0.6469 - loss: 0.7357 - val_accuracy: 0.7125 - val_loss: 0.6256\n",
            "Epoch 13/100\n",
            "\u001b[1m20/20\u001b[0m \u001b[32m━━━━━━━━━━━━━━━━━━━━\u001b[0m\u001b[37m\u001b[0m \u001b[1m0s\u001b[0m 13ms/step - accuracy: 0.6538 - loss: 0.7256 - val_accuracy: 0.7125 - val_loss: 0.6236\n",
            "Epoch 14/100\n",
            "\u001b[1m20/20\u001b[0m \u001b[32m━━━━━━━━━━━━━━━━━━━━\u001b[0m\u001b[37m\u001b[0m \u001b[1m0s\u001b[0m 9ms/step - accuracy: 0.6427 - loss: 0.6965 - val_accuracy: 0.7125 - val_loss: 0.6158\n",
            "Epoch 15/100\n",
            "\u001b[1m20/20\u001b[0m \u001b[32m━━━━━━━━━━━━━━━━━━━━\u001b[0m\u001b[37m\u001b[0m \u001b[1m0s\u001b[0m 9ms/step - accuracy: 0.6618 - loss: 0.7129 - val_accuracy: 0.7125 - val_loss: 0.6179\n",
            "Epoch 16/100\n",
            "\u001b[1m20/20\u001b[0m \u001b[32m━━━━━━━━━━━━━━━━━━━━\u001b[0m\u001b[37m\u001b[0m \u001b[1m0s\u001b[0m 15ms/step - accuracy: 0.6409 - loss: 0.7570 - val_accuracy: 0.7125 - val_loss: 0.6219\n",
            "Epoch 17/100\n",
            "\u001b[1m20/20\u001b[0m \u001b[32m━━━━━━━━━━━━━━━━━━━━\u001b[0m\u001b[37m\u001b[0m \u001b[1m1s\u001b[0m 9ms/step - accuracy: 0.6622 - loss: 0.7080 - val_accuracy: 0.7125 - val_loss: 0.6175\n",
            "Epoch 18/100\n",
            "\u001b[1m20/20\u001b[0m \u001b[32m━━━━━━━━━━━━━━━━━━━━\u001b[0m\u001b[37m\u001b[0m \u001b[1m0s\u001b[0m 10ms/step - accuracy: 0.6419 - loss: 0.8037 - val_accuracy: 0.7125 - val_loss: 0.6205\n",
            "Epoch 19/100\n",
            "\u001b[1m20/20\u001b[0m \u001b[32m━━━━━━━━━━━━━━━━━━━━\u001b[0m\u001b[37m\u001b[0m \u001b[1m0s\u001b[0m 18ms/step - accuracy: 0.6677 - loss: 0.6879 - val_accuracy: 0.7125 - val_loss: 0.6165\n",
            "Epoch 20/100\n",
            "\u001b[1m20/20\u001b[0m \u001b[32m━━━━━━━━━━━━━━━━━━━━\u001b[0m\u001b[37m\u001b[0m \u001b[1m0s\u001b[0m 7ms/step - accuracy: 0.6916 - loss: 0.7026 - val_accuracy: 0.7125 - val_loss: 0.6192\n",
            "Epoch 21/100\n",
            "\u001b[1m20/20\u001b[0m \u001b[32m━━━━━━━━━━━━━━━━━━━━\u001b[0m\u001b[37m\u001b[0m \u001b[1m0s\u001b[0m 9ms/step - accuracy: 0.6238 - loss: 0.7628 - val_accuracy: 0.7125 - val_loss: 0.6223\n",
            "Epoch 22/100\n",
            "\u001b[1m20/20\u001b[0m \u001b[32m━━━━━━━━━━━━━━━━━━━━\u001b[0m\u001b[37m\u001b[0m \u001b[1m0s\u001b[0m 7ms/step - accuracy: 0.6428 - loss: 0.7361 - val_accuracy: 0.7125 - val_loss: 0.6177\n",
            "Epoch 23/100\n",
            "\u001b[1m20/20\u001b[0m \u001b[32m━━━━━━━━━━━━━━━━━━━━\u001b[0m\u001b[37m\u001b[0m \u001b[1m0s\u001b[0m 7ms/step - accuracy: 0.6657 - loss: 0.6696 - val_accuracy: 0.7125 - val_loss: 0.6137\n",
            "Epoch 24/100\n",
            "\u001b[1m20/20\u001b[0m \u001b[32m━━━━━━━━━━━━━━━━━━━━\u001b[0m\u001b[37m\u001b[0m \u001b[1m0s\u001b[0m 7ms/step - accuracy: 0.6225 - loss: 0.7513 - val_accuracy: 0.7125 - val_loss: 0.6156\n",
            "Epoch 25/100\n",
            "\u001b[1m20/20\u001b[0m \u001b[32m━━━━━━━━━━━━━━━━━━━━\u001b[0m\u001b[37m\u001b[0m \u001b[1m0s\u001b[0m 6ms/step - accuracy: 0.6497 - loss: 0.6963 - val_accuracy: 0.7125 - val_loss: 0.6162\n",
            "Epoch 26/100\n",
            "\u001b[1m20/20\u001b[0m \u001b[32m━━━━━━━━━━━━━━━━━━━━\u001b[0m\u001b[37m\u001b[0m \u001b[1m0s\u001b[0m 7ms/step - accuracy: 0.6195 - loss: 0.7552 - val_accuracy: 0.7125 - val_loss: 0.6105\n",
            "Epoch 27/100\n",
            "\u001b[1m20/20\u001b[0m \u001b[32m━━━━━━━━━━━━━━━━━━━━\u001b[0m\u001b[37m\u001b[0m \u001b[1m0s\u001b[0m 10ms/step - accuracy: 0.6286 - loss: 0.7251 - val_accuracy: 0.7125 - val_loss: 0.6067\n",
            "Epoch 28/100\n",
            "\u001b[1m20/20\u001b[0m \u001b[32m━━━━━━━━━━━━━━━━━━━━\u001b[0m\u001b[37m\u001b[0m \u001b[1m0s\u001b[0m 7ms/step - accuracy: 0.6845 - loss: 0.6779 - val_accuracy: 0.7125 - val_loss: 0.6102\n",
            "Epoch 29/100\n",
            "\u001b[1m20/20\u001b[0m \u001b[32m━━━━━━━━━━━━━━━━━━━━\u001b[0m\u001b[37m\u001b[0m \u001b[1m0s\u001b[0m 5ms/step - accuracy: 0.6461 - loss: 0.7303 - val_accuracy: 0.7125 - val_loss: 0.6100\n",
            "Epoch 30/100\n",
            "\u001b[1m20/20\u001b[0m \u001b[32m━━━━━━━━━━━━━━━━━━━━\u001b[0m\u001b[37m\u001b[0m \u001b[1m0s\u001b[0m 5ms/step - accuracy: 0.6678 - loss: 0.7117 - val_accuracy: 0.7125 - val_loss: 0.6103\n",
            "Epoch 31/100\n",
            "\u001b[1m20/20\u001b[0m \u001b[32m━━━━━━━━━━━━━━━━━━━━\u001b[0m\u001b[37m\u001b[0m \u001b[1m0s\u001b[0m 4ms/step - accuracy: 0.7061 - loss: 0.6966 - val_accuracy: 0.7125 - val_loss: 0.6133\n",
            "Epoch 32/100\n",
            "\u001b[1m20/20\u001b[0m \u001b[32m━━━━━━━━━━━━━━━━━━━━\u001b[0m\u001b[37m\u001b[0m \u001b[1m0s\u001b[0m 5ms/step - accuracy: 0.6822 - loss: 0.6435 - val_accuracy: 0.7125 - val_loss: 0.6169\n",
            "Epoch 33/100\n",
            "\u001b[1m20/20\u001b[0m \u001b[32m━━━━━━━━━━━━━━━━━━━━\u001b[0m\u001b[37m\u001b[0m \u001b[1m0s\u001b[0m 5ms/step - accuracy: 0.6122 - loss: 0.7571 - val_accuracy: 0.7125 - val_loss: 0.6245\n",
            "Epoch 34/100\n",
            "\u001b[1m20/20\u001b[0m \u001b[32m━━━━━━━━━━━━━━━━━━━━\u001b[0m\u001b[37m\u001b[0m \u001b[1m0s\u001b[0m 5ms/step - accuracy: 0.6945 - loss: 0.7066 - val_accuracy: 0.7125 - val_loss: 0.6167\n",
            "Epoch 35/100\n",
            "\u001b[1m20/20\u001b[0m \u001b[32m━━━━━━━━━━━━━━━━━━━━\u001b[0m\u001b[37m\u001b[0m \u001b[1m0s\u001b[0m 5ms/step - accuracy: 0.6134 - loss: 0.7319 - val_accuracy: 0.7125 - val_loss: 0.6148\n",
            "Epoch 36/100\n",
            "\u001b[1m20/20\u001b[0m \u001b[32m━━━━━━━━━━━━━━━━━━━━\u001b[0m\u001b[37m\u001b[0m \u001b[1m0s\u001b[0m 5ms/step - accuracy: 0.6970 - loss: 0.6493 - val_accuracy: 0.7125 - val_loss: 0.6135\n",
            "Epoch 37/100\n",
            "\u001b[1m20/20\u001b[0m \u001b[32m━━━━━━━━━━━━━━━━━━━━\u001b[0m\u001b[37m\u001b[0m \u001b[1m0s\u001b[0m 5ms/step - accuracy: 0.6891 - loss: 0.6745 - val_accuracy: 0.7125 - val_loss: 0.6186\n",
            "\u001b[1m7/7\u001b[0m \u001b[32m━━━━━━━━━━━━━━━━━━━━\u001b[0m\u001b[37m\u001b[0m \u001b[1m0s\u001b[0m 2ms/step - accuracy: 0.6840 - loss: 0.7283  \n",
            "Test Accuracy: 0.6650\n"
          ]
        }
      ]
    },
    {
      "cell_type": "code",
      "source": [
        "# Evaluate the model\n",
        "loss, accuracy = model.evaluate(X_test, y_test)\n",
        "print(f'Test Accuracy: {accuracy:.4f}')"
      ],
      "metadata": {
        "colab": {
          "base_uri": "https://localhost:8080/"
        },
        "id": "NlEzp2URGJs_",
        "outputId": "298b8fc5-0674-43fa-f8b2-4f96b29b9f93"
      },
      "execution_count": 47,
      "outputs": [
        {
          "output_type": "stream",
          "name": "stdout",
          "text": [
            "\u001b[1m7/7\u001b[0m \u001b[32m━━━━━━━━━━━━━━━━━━━━\u001b[0m\u001b[37m\u001b[0m \u001b[1m0s\u001b[0m 3ms/step - accuracy: 0.6840 - loss: 0.7370 \n",
            "Test Accuracy: 0.6650\n"
          ]
        }
      ]
    },
    {
      "cell_type": "code",
      "source": [
        "from tensorflow.keras.callbacks import ReduceLROnPlateau\n",
        "\n",
        "reduce_lr = ReduceLROnPlateau(monitor='val_loss', factor=0.2, patience=5, min_lr=0.001)\n",
        "history = model.fit(X_train, y_train, epochs=100, batch_size=32, validation_split=0.2, callbacks=[early_stopping, reduce_lr])\n"
      ],
      "metadata": {
        "colab": {
          "base_uri": "https://localhost:8080/"
        },
        "id": "SUhSkwljGS9Q",
        "outputId": "ab573a0c-038f-4694-eeb1-38105db35732"
      },
      "execution_count": 46,
      "outputs": [
        {
          "output_type": "stream",
          "name": "stdout",
          "text": [
            "Epoch 1/100\n",
            "\u001b[1m20/20\u001b[0m \u001b[32m━━━━━━━━━━━━━━━━━━━━\u001b[0m\u001b[37m\u001b[0m \u001b[1m0s\u001b[0m 7ms/step - accuracy: 0.6689 - loss: 0.6885 - val_accuracy: 0.7125 - val_loss: 0.6141 - learning_rate: 0.0010\n",
            "Epoch 2/100\n",
            "\u001b[1m20/20\u001b[0m \u001b[32m━━━━━━━━━━━━━━━━━━━━\u001b[0m\u001b[37m\u001b[0m \u001b[1m0s\u001b[0m 4ms/step - accuracy: 0.6641 - loss: 0.7105 - val_accuracy: 0.7125 - val_loss: 0.6163 - learning_rate: 0.0010\n",
            "Epoch 3/100\n",
            "\u001b[1m20/20\u001b[0m \u001b[32m━━━━━━━━━━━━━━━━━━━━\u001b[0m\u001b[37m\u001b[0m \u001b[1m0s\u001b[0m 4ms/step - accuracy: 0.6416 - loss: 0.7059 - val_accuracy: 0.7125 - val_loss: 0.6184 - learning_rate: 0.0010\n",
            "Epoch 4/100\n",
            "\u001b[1m20/20\u001b[0m \u001b[32m━━━━━━━━━━━━━━━━━━━━\u001b[0m\u001b[37m\u001b[0m \u001b[1m0s\u001b[0m 4ms/step - accuracy: 0.6575 - loss: 0.6857 - val_accuracy: 0.7125 - val_loss: 0.6175 - learning_rate: 0.0010\n",
            "Epoch 5/100\n",
            "\u001b[1m20/20\u001b[0m \u001b[32m━━━━━━━━━━━━━━━━━━━━\u001b[0m\u001b[37m\u001b[0m \u001b[1m0s\u001b[0m 5ms/step - accuracy: 0.6667 - loss: 0.6803 - val_accuracy: 0.7125 - val_loss: 0.6224 - learning_rate: 0.0010\n",
            "Epoch 6/100\n",
            "\u001b[1m20/20\u001b[0m \u001b[32m━━━━━━━━━━━━━━━━━━━━\u001b[0m\u001b[37m\u001b[0m \u001b[1m0s\u001b[0m 6ms/step - accuracy: 0.6677 - loss: 0.7026 - val_accuracy: 0.7125 - val_loss: 0.6169 - learning_rate: 0.0010\n",
            "Epoch 7/100\n",
            "\u001b[1m20/20\u001b[0m \u001b[32m━━━━━━━━━━━━━━━━━━━━\u001b[0m\u001b[37m\u001b[0m \u001b[1m0s\u001b[0m 4ms/step - accuracy: 0.6579 - loss: 0.7379 - val_accuracy: 0.7125 - val_loss: 0.6122 - learning_rate: 0.0010\n",
            "Epoch 8/100\n",
            "\u001b[1m20/20\u001b[0m \u001b[32m━━━━━━━━━━━━━━━━━━━━\u001b[0m\u001b[37m\u001b[0m \u001b[1m0s\u001b[0m 4ms/step - accuracy: 0.6482 - loss: 0.7181 - val_accuracy: 0.7125 - val_loss: 0.6151 - learning_rate: 0.0010\n",
            "Epoch 9/100\n",
            "\u001b[1m20/20\u001b[0m \u001b[32m━━━━━━━━━━━━━━━━━━━━\u001b[0m\u001b[37m\u001b[0m \u001b[1m0s\u001b[0m 5ms/step - accuracy: 0.6421 - loss: 0.7069 - val_accuracy: 0.7125 - val_loss: 0.6162 - learning_rate: 0.0010\n",
            "Epoch 10/100\n",
            "\u001b[1m20/20\u001b[0m \u001b[32m━━━━━━━━━━━━━━━━━━━━\u001b[0m\u001b[37m\u001b[0m \u001b[1m0s\u001b[0m 4ms/step - accuracy: 0.6847 - loss: 0.6422 - val_accuracy: 0.7125 - val_loss: 0.6179 - learning_rate: 0.0010\n"
          ]
        }
      ]
    },
    {
      "cell_type": "code",
      "source": [
        "# Evaluate the model\n",
        "loss, accuracy = model.evaluate(X_test, y_test)\n",
        "print(f'Test Accuracy: {accuracy:.4f}')"
      ],
      "metadata": {
        "colab": {
          "base_uri": "https://localhost:8080/"
        },
        "id": "QQ_-_GuYGb6o",
        "outputId": "0b46889f-2f4b-4f4a-e597-4741fee4bf85"
      },
      "execution_count": 49,
      "outputs": [
        {
          "output_type": "stream",
          "name": "stdout",
          "text": [
            "\u001b[1m7/7\u001b[0m \u001b[32m━━━━━━━━━━━━━━━━━━━━\u001b[0m\u001b[37m\u001b[0m \u001b[1m0s\u001b[0m 3ms/step - accuracy: 0.6840 - loss: 0.7370 \n",
            "Test Accuracy: 0.6650\n"
          ]
        }
      ]
    },
    {
      "cell_type": "code",
      "source": [
        "# Predict the test data\n",
        "y_pred_prob = model.predict(X_test)\n",
        "# Convert probabilities to class labels\n",
        "y_pred = np.argmax(y_pred_prob, axis=1)\n"
      ],
      "metadata": {
        "colab": {
          "base_uri": "https://localhost:8080/"
        },
        "id": "w15WGqs7Hlr4",
        "outputId": "69cd2fdf-282c-4878-e60b-04b7c81695f0"
      },
      "execution_count": 50,
      "outputs": [
        {
          "output_type": "stream",
          "name": "stdout",
          "text": [
            "\u001b[1m7/7\u001b[0m \u001b[32m━━━━━━━━━━━━━━━━━━━━\u001b[0m\u001b[37m\u001b[0m \u001b[1m0s\u001b[0m 14ms/step\n"
          ]
        }
      ]
    },
    {
      "cell_type": "code",
      "source": [
        "from sklearn.metrics import accuracy_score, precision_score, recall_score, f1_score\n",
        "\n",
        "# If y_test is one-hot encoded, convert it to integer labels\n",
        "y_test_labels = np.argmax(y_test, axis=1)\n",
        "\n",
        "# Calculate accuracy\n",
        "accuracy = accuracy_score(y_test_labels, y_pred)\n",
        "\n",
        "# Calculate precision, recall, and F1 score\n",
        "precision = precision_score(y_test_labels, y_pred, average='weighted')\n",
        "recall = recall_score(y_test_labels, y_pred, average='weighted')\n",
        "f1 = f1_score(y_test_labels, y_pred, average='weighted')\n",
        "\n",
        "print(f'Accuracy: {accuracy:.4f}')\n",
        "print(f'Precision: {precision:.4f}')\n",
        "print(f'Recall: {recall:.4f}')\n",
        "print(f'F1 Score: {f1:.4f}')\n"
      ],
      "metadata": {
        "colab": {
          "base_uri": "https://localhost:8080/"
        },
        "id": "SHJ4khDeHozm",
        "outputId": "850c800f-aec2-4e34-953b-c067996d603d"
      },
      "execution_count": 51,
      "outputs": [
        {
          "output_type": "stream",
          "name": "stdout",
          "text": [
            "Accuracy: 0.6650\n",
            "Precision: 0.5988\n",
            "Recall: 0.6650\n",
            "F1 Score: 0.6141\n"
          ]
        },
        {
          "output_type": "stream",
          "name": "stderr",
          "text": [
            "/usr/local/lib/python3.10/dist-packages/sklearn/metrics/_classification.py:1471: UndefinedMetricWarning: Precision is ill-defined and being set to 0.0 in labels with no predicted samples. Use `zero_division` parameter to control this behavior.\n",
            "  _warn_prf(average, modifier, msg_start, len(result))\n"
          ]
        }
      ]
    }
  ]
}
